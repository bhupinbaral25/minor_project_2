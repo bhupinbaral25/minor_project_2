{
  "nbformat": 4,
  "nbformat_minor": 0,
  "metadata": {
    "colab": {
      "name": "2_Deriving_High_level_Statistics_marketing_data.ipynb",
      "provenance": [],
      "collapsed_sections": [],
      "include_colab_link": true
    },
    "kernelspec": {
      "name": "python3",
      "display_name": "Python 3"
    },
    "language_info": {
      "name": "python"
    }
  },
  "cells": [
    {
      "cell_type": "markdown",
      "metadata": {
        "id": "view-in-github",
        "colab_type": "text"
      },
      "source": [
        "<a href=\"https://colab.research.google.com/github/bhupinbaral25/minor_project_2/blob/main/2_Deriving_High_level_Statistics_marketing_data.ipynb\" target=\"_parent\"><img src=\"https://colab.research.google.com/assets/colab-badge.svg\" alt=\"Open In Colab\"/></a>"
      ]
    },
    {
      "cell_type": "code",
      "metadata": {
        "id": "L1U8e0FF7dHf"
      },
      "source": [
        "# from google.colab import files\n",
        "# uploaded = files.upload()"
      ],
      "execution_count": null,
      "outputs": []
    },
    {
      "cell_type": "code",
      "metadata": {
        "id": "LQS_Zo8do_sD"
      },
      "source": [
        "# import csv\n",
        "# import ast\n",
        "# import numpy as np\n",
        "\n",
        "# with open('cleaned_marketing_data (1) (1).csv', 'r') as file:\n",
        "#     my_reader = csv.reader(file, delimiter=',')\n",
        "#     header = next(my_reader, None) \n",
        "#     r = []\n",
        "#     for row in my_reader:\n",
        "#       for i in range(len(row)):\n",
        "#         r.append(ast.literal_eval(row[i]))\n",
        "# r"
      ],
      "execution_count": null,
      "outputs": []
    },
    {
      "cell_type": "code",
      "metadata": {
        "colab": {
          "base_uri": "https://localhost:8080/",
          "height": 374
        },
        "id": "O_Y6aTiUVefN",
        "outputId": "cf110b25-0fe8-4b62-e1e2-9fff2d5af888"
      },
      "source": [
        "import numpy as np\n",
        "import csv\n",
        "numpy_array = np.genfromtxt('cleaned_marketing_data (2).csv', dtype=np.int64, delimiter=\",\", skip_header=1)\n",
        "#numpy_array = np.loadtxt('cleaned_marketing_data (2).csv', dtype=np.int64, delimiter=\",\", skip_header=1)\n",
        "numpy_array = np.delete(numpy_array, 0, axis=1)\n",
        "numpy_array"
      ],
      "execution_count": null,
      "outputs": [
        {
          "output_type": "error",
          "ename": "OSError",
          "evalue": "ignored",
          "traceback": [
            "\u001b[0;31m---------------------------------------------------------------------------\u001b[0m",
            "\u001b[0;31mOSError\u001b[0m                                   Traceback (most recent call last)",
            "\u001b[0;32m<ipython-input-2-1ca24aa504c0>\u001b[0m in \u001b[0;36m<module>\u001b[0;34m()\u001b[0m\n\u001b[1;32m      1\u001b[0m \u001b[0;32mimport\u001b[0m \u001b[0mnumpy\u001b[0m \u001b[0;32mas\u001b[0m \u001b[0mnp\u001b[0m\u001b[0;34m\u001b[0m\u001b[0;34m\u001b[0m\u001b[0m\n\u001b[1;32m      2\u001b[0m \u001b[0;32mimport\u001b[0m \u001b[0mcsv\u001b[0m\u001b[0;34m\u001b[0m\u001b[0;34m\u001b[0m\u001b[0m\n\u001b[0;32m----> 3\u001b[0;31m \u001b[0mnumpy_array\u001b[0m \u001b[0;34m=\u001b[0m \u001b[0mnp\u001b[0m\u001b[0;34m.\u001b[0m\u001b[0mgenfromtxt\u001b[0m\u001b[0;34m(\u001b[0m\u001b[0;34m'cleaned_marketing_data (2).csv'\u001b[0m\u001b[0;34m,\u001b[0m \u001b[0mdtype\u001b[0m\u001b[0;34m=\u001b[0m\u001b[0mnp\u001b[0m\u001b[0;34m.\u001b[0m\u001b[0mint64\u001b[0m\u001b[0;34m,\u001b[0m \u001b[0mdelimiter\u001b[0m\u001b[0;34m=\u001b[0m\u001b[0;34m\",\"\u001b[0m\u001b[0;34m,\u001b[0m \u001b[0mskip_header\u001b[0m\u001b[0;34m=\u001b[0m\u001b[0;36m1\u001b[0m\u001b[0;34m)\u001b[0m\u001b[0;34m\u001b[0m\u001b[0;34m\u001b[0m\u001b[0m\n\u001b[0m\u001b[1;32m      4\u001b[0m \u001b[0;31m#numpy_array = np.loadfromtxt('cleaned_marketing_data (2).csv', dtype=np.int64, delimiter=\",\", skip_header=1)\u001b[0m\u001b[0;34m\u001b[0m\u001b[0;34m\u001b[0m\u001b[0;34m\u001b[0m\u001b[0m\n\u001b[1;32m      5\u001b[0m \u001b[0mnumpy_array\u001b[0m \u001b[0;34m=\u001b[0m \u001b[0mnp\u001b[0m\u001b[0;34m.\u001b[0m\u001b[0mdelete\u001b[0m\u001b[0;34m(\u001b[0m\u001b[0mnumpy_array\u001b[0m\u001b[0;34m,\u001b[0m \u001b[0;36m0\u001b[0m\u001b[0;34m,\u001b[0m \u001b[0maxis\u001b[0m\u001b[0;34m=\u001b[0m\u001b[0;36m1\u001b[0m\u001b[0;34m)\u001b[0m\u001b[0;34m\u001b[0m\u001b[0;34m\u001b[0m\u001b[0m\n",
            "\u001b[0;32m/usr/local/lib/python3.7/dist-packages/numpy/lib/npyio.py\u001b[0m in \u001b[0;36mgenfromtxt\u001b[0;34m(fname, dtype, comments, delimiter, skip_header, skip_footer, converters, missing_values, filling_values, usecols, names, excludelist, deletechars, replace_space, autostrip, case_sensitive, defaultfmt, unpack, usemask, loose, invalid_raise, max_rows, encoding)\u001b[0m\n\u001b[1;32m   1747\u001b[0m             \u001b[0mfname\u001b[0m \u001b[0;34m=\u001b[0m \u001b[0mos_fspath\u001b[0m\u001b[0;34m(\u001b[0m\u001b[0mfname\u001b[0m\u001b[0;34m)\u001b[0m\u001b[0;34m\u001b[0m\u001b[0;34m\u001b[0m\u001b[0m\n\u001b[1;32m   1748\u001b[0m         \u001b[0;32mif\u001b[0m \u001b[0misinstance\u001b[0m\u001b[0;34m(\u001b[0m\u001b[0mfname\u001b[0m\u001b[0;34m,\u001b[0m \u001b[0mstr\u001b[0m\u001b[0;34m)\u001b[0m\u001b[0;34m:\u001b[0m\u001b[0;34m\u001b[0m\u001b[0;34m\u001b[0m\u001b[0m\n\u001b[0;32m-> 1749\u001b[0;31m             \u001b[0mfid\u001b[0m \u001b[0;34m=\u001b[0m \u001b[0mnp\u001b[0m\u001b[0;34m.\u001b[0m\u001b[0mlib\u001b[0m\u001b[0;34m.\u001b[0m\u001b[0m_datasource\u001b[0m\u001b[0;34m.\u001b[0m\u001b[0mopen\u001b[0m\u001b[0;34m(\u001b[0m\u001b[0mfname\u001b[0m\u001b[0;34m,\u001b[0m \u001b[0;34m'rt'\u001b[0m\u001b[0;34m,\u001b[0m \u001b[0mencoding\u001b[0m\u001b[0;34m=\u001b[0m\u001b[0mencoding\u001b[0m\u001b[0;34m)\u001b[0m\u001b[0;34m\u001b[0m\u001b[0;34m\u001b[0m\u001b[0m\n\u001b[0m\u001b[1;32m   1750\u001b[0m             \u001b[0mfid_ctx\u001b[0m \u001b[0;34m=\u001b[0m \u001b[0mcontextlib\u001b[0m\u001b[0;34m.\u001b[0m\u001b[0mclosing\u001b[0m\u001b[0;34m(\u001b[0m\u001b[0mfid\u001b[0m\u001b[0;34m)\u001b[0m\u001b[0;34m\u001b[0m\u001b[0;34m\u001b[0m\u001b[0m\n\u001b[1;32m   1751\u001b[0m         \u001b[0;32melse\u001b[0m\u001b[0;34m:\u001b[0m\u001b[0;34m\u001b[0m\u001b[0;34m\u001b[0m\u001b[0m\n",
            "\u001b[0;32m/usr/local/lib/python3.7/dist-packages/numpy/lib/_datasource.py\u001b[0m in \u001b[0;36mopen\u001b[0;34m(path, mode, destpath, encoding, newline)\u001b[0m\n\u001b[1;32m    193\u001b[0m \u001b[0;34m\u001b[0m\u001b[0m\n\u001b[1;32m    194\u001b[0m     \u001b[0mds\u001b[0m \u001b[0;34m=\u001b[0m \u001b[0mDataSource\u001b[0m\u001b[0;34m(\u001b[0m\u001b[0mdestpath\u001b[0m\u001b[0;34m)\u001b[0m\u001b[0;34m\u001b[0m\u001b[0;34m\u001b[0m\u001b[0m\n\u001b[0;32m--> 195\u001b[0;31m     \u001b[0;32mreturn\u001b[0m \u001b[0mds\u001b[0m\u001b[0;34m.\u001b[0m\u001b[0mopen\u001b[0m\u001b[0;34m(\u001b[0m\u001b[0mpath\u001b[0m\u001b[0;34m,\u001b[0m \u001b[0mmode\u001b[0m\u001b[0;34m,\u001b[0m \u001b[0mencoding\u001b[0m\u001b[0;34m=\u001b[0m\u001b[0mencoding\u001b[0m\u001b[0;34m,\u001b[0m \u001b[0mnewline\u001b[0m\u001b[0;34m=\u001b[0m\u001b[0mnewline\u001b[0m\u001b[0;34m)\u001b[0m\u001b[0;34m\u001b[0m\u001b[0;34m\u001b[0m\u001b[0m\n\u001b[0m\u001b[1;32m    196\u001b[0m \u001b[0;34m\u001b[0m\u001b[0m\n\u001b[1;32m    197\u001b[0m \u001b[0;34m\u001b[0m\u001b[0m\n",
            "\u001b[0;32m/usr/local/lib/python3.7/dist-packages/numpy/lib/_datasource.py\u001b[0m in \u001b[0;36mopen\u001b[0;34m(self, path, mode, encoding, newline)\u001b[0m\n\u001b[1;32m    533\u001b[0m                                       encoding=encoding, newline=newline)\n\u001b[1;32m    534\u001b[0m         \u001b[0;32melse\u001b[0m\u001b[0;34m:\u001b[0m\u001b[0;34m\u001b[0m\u001b[0;34m\u001b[0m\u001b[0m\n\u001b[0;32m--> 535\u001b[0;31m             \u001b[0;32mraise\u001b[0m \u001b[0mIOError\u001b[0m\u001b[0;34m(\u001b[0m\u001b[0;34m\"%s not found.\"\u001b[0m \u001b[0;34m%\u001b[0m \u001b[0mpath\u001b[0m\u001b[0;34m)\u001b[0m\u001b[0;34m\u001b[0m\u001b[0;34m\u001b[0m\u001b[0m\n\u001b[0m\u001b[1;32m    536\u001b[0m \u001b[0;34m\u001b[0m\u001b[0m\n\u001b[1;32m    537\u001b[0m \u001b[0;34m\u001b[0m\u001b[0m\n",
            "\u001b[0;31mOSError\u001b[0m: cleaned_marketing_data (2).csv not found."
          ]
        }
      ]
    },
    {
      "cell_type": "code",
      "metadata": {
        "id": "ycDijbQYhXAc"
      },
      "source": [
        "with open('cleaned_marketing_data (2).csv', 'r') as file:\n",
        "    my_reader = csv.reader(file, delimiter=',')\n",
        "    header = next(my_reader, None) "
      ],
      "execution_count": null,
      "outputs": []
    },
    {
      "cell_type": "code",
      "metadata": {
        "id": "a58HMaUwefBZ",
        "colab": {
          "base_uri": "https://localhost:8080/"
        },
        "outputId": "c53043e3-5f35-4d72-b0cb-5b47762e110f"
      },
      "source": [
        "from prettytable import PrettyTable\n",
        "stat_table = PrettyTable(header)\n",
        "stat_table.add_row(np.append(np.array([\"mean\"]), np.mean(numpy_array, axis=0)))\n",
        "stat_table.add_row(np.append(np.array([\"S.D\"]), np.std(numpy_array, axis=0)))\n",
        "stat_table.add_row(np.append(np.array([\"min\"]), np.min(numpy_array, axis=0)))\n",
        "stat_table.add_row(np.append(np.array([\"max\"]), np.max(numpy_array, axis=0)))\n",
        "stat_table.add_row(np.append(np.array([\"25%\"]), np.percentile(numpy_array, 25, axis=0)))\n",
        "stat_table.add_row(np.append(np.array([\"50%\"]), np.percentile(numpy_array, 50, axis=0)))\n",
        "stat_table.add_row(np.append(np.array([\"75%\"]), np.percentile(numpy_array, 75, axis=0)))\n",
        "print(stat_table)"
      ],
      "execution_count": null,
      "outputs": [
        {
          "output_type": "stream",
          "text": [
            "+------+--------------------+--------------------+-------------------+--------------------+--------------------+-------------------+--------------------+--------------------+--------------------+-------------------+--------------------+-------------------+--------------------+\n",
            "|      |     year_birth     |     education      |   marital_status  |       income       |      mntwines      |     mntfruits     |  mntmeatproducts   |  mntsweetproducts  |    mntgoldprods    |  numwebpurchases  | numstorepurchases  |      country      |   children_home    |\n",
            "+------+--------------------+--------------------+-------------------+--------------------+--------------------+-------------------+--------------------+--------------------+--------------------+-------------------+--------------------+-------------------+--------------------+\n",
            "| mean | 1968.7872827081428 | 2.395699908508692  | 3.732387923147301 | 51729.756175663315 |  304.183440073193  | 26.27676120768527 | 205.20402561756634 | 27.098810612991766 | 44.107502287282706 | 4.096065873741995 | 5.787282708142726  | 4.429551692589204 | 0.9487648673376029 |\n",
            "| S.D  | 11.99393881805005  | 1.1221629020541355 | 1.075053337054482 | 25705.595256319626 | 336.42041010210926 | 39.65478641676293 | 261.6617186146436  | 41.281655113447016 | 52.24352565622746  | 2.785715931483574 | 3.2510176082501148 | 2.207826360306393 | 0.7495841070558272 |\n",
            "| min  |        1893        |         0          |         0         |         0          |         0          |         0         |         1          |         0          |         0          |         0         |         0          |         0         |         0          |\n",
            "| max  |        1996        |         4          |         7         |       666666       |        1493        |        199        |        1727        |        263         |        362         |         27        |         13         |         7         |         3          |\n",
            "| 25%  |       1959.0       |        2.0         |        3.0        |      34759.5       |        23.0        |        2.0        |        21.0        |        1.0         |        9.0         |        2.0        |        3.0         |        3.0        |        0.0         |\n",
            "| 50%  |       1970.0       |        2.0         |        4.0        |      51117.5       |       174.5        |        8.0        |        80.5        |        8.0         |        24.0        |        4.0        |        5.0         |        6.0        |        1.0         |\n",
            "| 75%  |       1977.0       |        3.0         |        5.0        |      68307.25      |       505.0        |        33.0       |       306.75       |       33.75        |        56.0        |        6.0        |        8.0         |        6.0        |        1.0         |\n",
            "+------+--------------------+--------------------+-------------------+--------------------+--------------------+-------------------+--------------------+--------------------+--------------------+-------------------+--------------------+-------------------+--------------------+\n"
          ],
          "name": "stdout"
        }
      ]
    },
    {
      "cell_type": "code",
      "metadata": {
        "colab": {
          "base_uri": "https://localhost:8080/",
          "height": 332
        },
        "id": "IRxfyu_7fzp6",
        "outputId": "5e79e372-5763-4d5f-845f-294e13b38abc"
      },
      "source": [
        "#For checking\n",
        "import pandas as pd\n",
        "df = pd.read_csv('cleaned_marketing_data (2).csv')\n",
        "df.describe()"
      ],
      "execution_count": null,
      "outputs": [
        {
          "output_type": "execute_result",
          "data": {
            "text/html": [
              "<div>\n",
              "<style scoped>\n",
              "    .dataframe tbody tr th:only-of-type {\n",
              "        vertical-align: middle;\n",
              "    }\n",
              "\n",
              "    .dataframe tbody tr th {\n",
              "        vertical-align: top;\n",
              "    }\n",
              "\n",
              "    .dataframe thead th {\n",
              "        text-align: right;\n",
              "    }\n",
              "</style>\n",
              "<table border=\"1\" class=\"dataframe\">\n",
              "  <thead>\n",
              "    <tr style=\"text-align: right;\">\n",
              "      <th></th>\n",
              "      <th>Unnamed: 0</th>\n",
              "      <th>year_birth</th>\n",
              "      <th>education</th>\n",
              "      <th>marital_status</th>\n",
              "      <th>income</th>\n",
              "      <th>mntwines</th>\n",
              "      <th>mntfruits</th>\n",
              "      <th>mntmeatproducts</th>\n",
              "      <th>mntsweetproducts</th>\n",
              "      <th>mntgoldprods</th>\n",
              "      <th>numwebpurchases</th>\n",
              "      <th>numstorepurchases</th>\n",
              "      <th>country</th>\n",
              "      <th>children_home</th>\n",
              "    </tr>\n",
              "  </thead>\n",
              "  <tbody>\n",
              "    <tr>\n",
              "      <th>count</th>\n",
              "      <td>2186.000000</td>\n",
              "      <td>2186.000000</td>\n",
              "      <td>2186.00000</td>\n",
              "      <td>2186.000000</td>\n",
              "      <td>2186.000000</td>\n",
              "      <td>2186.000000</td>\n",
              "      <td>2186.000000</td>\n",
              "      <td>2186.000000</td>\n",
              "      <td>2186.000000</td>\n",
              "      <td>2186.000000</td>\n",
              "      <td>2186.000000</td>\n",
              "      <td>2186.000000</td>\n",
              "      <td>2186.000000</td>\n",
              "      <td>2186.000000</td>\n",
              "    </tr>\n",
              "    <tr>\n",
              "      <th>mean</th>\n",
              "      <td>1120.695791</td>\n",
              "      <td>1968.787283</td>\n",
              "      <td>2.39570</td>\n",
              "      <td>3.732388</td>\n",
              "      <td>51729.756176</td>\n",
              "      <td>304.183440</td>\n",
              "      <td>26.276761</td>\n",
              "      <td>205.204026</td>\n",
              "      <td>27.098811</td>\n",
              "      <td>44.107502</td>\n",
              "      <td>4.096066</td>\n",
              "      <td>5.787283</td>\n",
              "      <td>4.429552</td>\n",
              "      <td>0.948765</td>\n",
              "    </tr>\n",
              "    <tr>\n",
              "      <th>std</th>\n",
              "      <td>646.985254</td>\n",
              "      <td>11.996683</td>\n",
              "      <td>1.12242</td>\n",
              "      <td>1.075299</td>\n",
              "      <td>25711.476871</td>\n",
              "      <td>336.497385</td>\n",
              "      <td>39.663860</td>\n",
              "      <td>261.721589</td>\n",
              "      <td>41.291101</td>\n",
              "      <td>52.255479</td>\n",
              "      <td>2.786353</td>\n",
              "      <td>3.251761</td>\n",
              "      <td>2.208332</td>\n",
              "      <td>0.749756</td>\n",
              "    </tr>\n",
              "    <tr>\n",
              "      <th>min</th>\n",
              "      <td>0.000000</td>\n",
              "      <td>1893.000000</td>\n",
              "      <td>0.00000</td>\n",
              "      <td>0.000000</td>\n",
              "      <td>0.000000</td>\n",
              "      <td>0.000000</td>\n",
              "      <td>0.000000</td>\n",
              "      <td>1.000000</td>\n",
              "      <td>0.000000</td>\n",
              "      <td>0.000000</td>\n",
              "      <td>0.000000</td>\n",
              "      <td>0.000000</td>\n",
              "      <td>0.000000</td>\n",
              "      <td>0.000000</td>\n",
              "    </tr>\n",
              "    <tr>\n",
              "      <th>25%</th>\n",
              "      <td>560.250000</td>\n",
              "      <td>1959.000000</td>\n",
              "      <td>2.00000</td>\n",
              "      <td>3.000000</td>\n",
              "      <td>34759.500000</td>\n",
              "      <td>23.000000</td>\n",
              "      <td>2.000000</td>\n",
              "      <td>21.000000</td>\n",
              "      <td>1.000000</td>\n",
              "      <td>9.000000</td>\n",
              "      <td>2.000000</td>\n",
              "      <td>3.000000</td>\n",
              "      <td>3.000000</td>\n",
              "      <td>0.000000</td>\n",
              "    </tr>\n",
              "    <tr>\n",
              "      <th>50%</th>\n",
              "      <td>1120.500000</td>\n",
              "      <td>1970.000000</td>\n",
              "      <td>2.00000</td>\n",
              "      <td>4.000000</td>\n",
              "      <td>51117.500000</td>\n",
              "      <td>174.500000</td>\n",
              "      <td>8.000000</td>\n",
              "      <td>80.500000</td>\n",
              "      <td>8.000000</td>\n",
              "      <td>24.000000</td>\n",
              "      <td>4.000000</td>\n",
              "      <td>5.000000</td>\n",
              "      <td>6.000000</td>\n",
              "      <td>1.000000</td>\n",
              "    </tr>\n",
              "    <tr>\n",
              "      <th>75%</th>\n",
              "      <td>1680.750000</td>\n",
              "      <td>1977.000000</td>\n",
              "      <td>3.00000</td>\n",
              "      <td>5.000000</td>\n",
              "      <td>68307.250000</td>\n",
              "      <td>505.000000</td>\n",
              "      <td>33.000000</td>\n",
              "      <td>306.750000</td>\n",
              "      <td>33.750000</td>\n",
              "      <td>56.000000</td>\n",
              "      <td>6.000000</td>\n",
              "      <td>8.000000</td>\n",
              "      <td>6.000000</td>\n",
              "      <td>1.000000</td>\n",
              "    </tr>\n",
              "    <tr>\n",
              "      <th>max</th>\n",
              "      <td>2239.000000</td>\n",
              "      <td>1996.000000</td>\n",
              "      <td>4.00000</td>\n",
              "      <td>7.000000</td>\n",
              "      <td>666666.000000</td>\n",
              "      <td>1493.000000</td>\n",
              "      <td>199.000000</td>\n",
              "      <td>1727.000000</td>\n",
              "      <td>263.000000</td>\n",
              "      <td>362.000000</td>\n",
              "      <td>27.000000</td>\n",
              "      <td>13.000000</td>\n",
              "      <td>7.000000</td>\n",
              "      <td>3.000000</td>\n",
              "    </tr>\n",
              "  </tbody>\n",
              "</table>\n",
              "</div>"
            ],
            "text/plain": [
              "        Unnamed: 0   year_birth  ...      country  children_home\n",
              "count  2186.000000  2186.000000  ...  2186.000000    2186.000000\n",
              "mean   1120.695791  1968.787283  ...     4.429552       0.948765\n",
              "std     646.985254    11.996683  ...     2.208332       0.749756\n",
              "min       0.000000  1893.000000  ...     0.000000       0.000000\n",
              "25%     560.250000  1959.000000  ...     3.000000       0.000000\n",
              "50%    1120.500000  1970.000000  ...     6.000000       1.000000\n",
              "75%    1680.750000  1977.000000  ...     6.000000       1.000000\n",
              "max    2239.000000  1996.000000  ...     7.000000       3.000000\n",
              "\n",
              "[8 rows x 14 columns]"
            ]
          },
          "metadata": {
            "tags": []
          },
          "execution_count": 7
        }
      ]
    },
    {
      "cell_type": "code",
      "metadata": {
        "id": "upIWPy-IsTtP",
        "colab": {
          "base_uri": "https://localhost:8080/",
          "height": 337
        },
        "outputId": "44d145e1-b591-4b2d-bea8-6a508d6e6f6c"
      },
      "source": [
        "#Outlier Detection\n",
        "import seaborn as sns\n",
        "import matplotlib.pyplot as plt\n",
        "%matplotlib inline\n",
        "\n",
        "plt.figure(figsize=(15,5))\n",
        "plt.subplot(1,2,1)\n",
        "sns.boxplot(data = numpy_array[:,3])\n",
        "plt.subplot(1,2,2)\n",
        "sns.histplot(numpy_array[:,3])"
      ],
      "execution_count": null,
      "outputs": [
        {
          "output_type": "execute_result",
          "data": {
            "text/plain": [
              "<matplotlib.axes._subplots.AxesSubplot at 0x7f6b5267d110>"
            ]
          },
          "metadata": {
            "tags": []
          },
          "execution_count": 8
        },
        {
          "output_type": "display_data",
          "data": {
            "image/png": "[encoded data removed]",
            "text/plain": [
              "<Figure size 1080x360 with 2 Axes>"
            ]
          },
          "metadata": {
            "tags": [],
            "needs_background": "light"
          }
        }
      ]
    },
    {
      "cell_type": "markdown",
      "metadata": {
        "id": "xGPVlx3QiICM"
      },
      "source": [
        "The histogram is skewed right, the median is less than the mean.\n",
        "\n",
        "\n"
      ]
    },
    {
      "cell_type": "code",
      "metadata": {
        "colab": {
          "base_uri": "https://localhost:8080/"
        },
        "id": "dBXyTeGvdWRi",
        "outputId": "17235db9-80d1-4723-b4bb-b36e392cf541"
      },
      "source": [
        "# To find the percentage of outlier in income.\n",
        "count=0\n",
        "for i in numpy_array[:,3]:\n",
        "  if i > np.percentile(numpy_array[:,3], 90, axis=0):\n",
        "    count+=1 \n",
        "\n",
        "outlier_percentage = (count/len(numpy_array[:,3]))*100\n",
        "outlier_percentage"
      ],
      "execution_count": null,
      "outputs": [
        {
          "output_type": "execute_result",
          "data": {
            "text/plain": [
              "10.01829826166514"
            ]
          },
          "metadata": {
            "tags": []
          },
          "execution_count": 9
        }
      ]
    },
    {
      "cell_type": "markdown",
      "metadata": {
        "id": "4AiKQJo7tipk"
      },
      "source": [
        "Also, there are 24 missing datas in income field. so the best approach would be to replace those missing values and also the outliers with the median value."
      ]
    },
    {
      "cell_type": "code",
      "metadata": {
        "colab": {
          "base_uri": "https://localhost:8080/",
          "height": 337
        },
        "id": "JPBcX-xMguyC",
        "outputId": "ddd6afc9-f8f4-41c8-f2aa-242d7e80179c"
      },
      "source": [
        "# plt.figure(figsize=(15,5))\n",
        "# plt.subplot(1,2,1)\n",
        "# sns.boxplot(data = numpy_array[:,12])\n",
        "# plt.subplot(1,2,2)\n",
        "# sns.histplot(numpy_array[:,12])"
      ],
      "execution_count": null,
      "outputs": [
        {
          "output_type": "execute_result",
          "data": {
            "text/plain": [
              "<matplotlib.axes._subplots.AxesSubplot at 0x7f6b50a97050>"
            ]
          },
          "metadata": {
            "tags": []
          },
          "execution_count": 18
        },
        {
          "output_type": "display_data",
          "data": {
            "image/png": "[encoded data removed]",
            "text/plain": [
              "<Figure size 1080x360 with 2 Axes>"
            ]
          },
          "metadata": {
            "tags": [],
            "needs_background": "light"
          }
        }
      ]
    }
  ]
}