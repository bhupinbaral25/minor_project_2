{
  "nbformat": 4,
  "nbformat_minor": 0,
  "metadata": {
    "colab": {
      "name": "1_Cleaning_marketing_data.ipynb",
      "provenance": [],
      "authorship_tag": "ABX9TyMekzSTIo6Ff6CFIwVkhuEi",
      "include_colab_link": true
    },
    "kernelspec": {
      "name": "python3",
      "display_name": "Python 3"
    },
    "language_info": {
      "name": "python"
    }
  },
  "cells": [
    {
      "cell_type": "markdown",
      "metadata": {
        "id": "view-in-github",
        "colab_type": "text"
      },
      "source": [
        "<a href=\"https://colab.research.google.com/github/bhupinbaral25/minor_project_2/blob/main/1_Cleaning_marketing_data.ipynb\" target=\"_parent\"><img src=\"https://colab.research.google.com/assets/colab-badge.svg\" alt=\"Open In Colab\"/></a>"
      ]
    },
    {
      "cell_type": "code",
      "metadata": {
        "id": "paH5qYyCcyJE"
      },
      "source": [
        "#Upload csv to colab\n",
        "# from google.colab import files\n",
        "# uploaded = files.upload()"
      ],
      "execution_count": null,
      "outputs": []
    },
    {
      "cell_type": "markdown",
      "metadata": {
        "id": "scNKKNYBep8E"
      },
      "source": [
        "**Content**\n",
        "\n",
        "AcceptedCmp1 - 1 if customer accepted the offer in the 1st campaign, 0 otherwise\n",
        "\n",
        "AcceptedCmp2 - 1 if customer accepted the offer in the 2nd campaign, 0 otherwise\n",
        "\n",
        "AcceptedCmp3 - 1 if customer accepted the offer in the 3rd campaign, 0 otherwise\n",
        "\n",
        "AcceptedCmp4 - 1 if customer accepted the offer in the 4th campaign, 0 otherwise\n",
        "\n",
        "AcceptedCmp5 - 1 if customer accepted the offer in the 5th campaign, 0 otherwise\n",
        "\n",
        "Response (target) - 1 if customer accepted the offer in the last campaign, 0 otherwise\n",
        "\n",
        "Complain - 1 if customer complained in the last 2 years\n",
        "\n",
        "DtCustomer - date of customer’s enrolment with the company\n",
        "\n",
        "Education - customer’s level of education\n",
        "\n",
        "Marital - customer’s marital status\n",
        "\n",
        "Kidhome - number of small children in customer’s household\n",
        "\n",
        " Teenhome - number of teenagers in customer’s household\n",
        "\n",
        " Income - customer’s yearly household income\n",
        "\n",
        "MntFishProducts - amount spent on fish products in the last 2 years\n",
        "\n",
        "MntMeatProducts - amount spent on meat products in the last 2 years\n",
        "\n",
        "MntFruits - amount spent on fruits products in the last 2 years\n",
        "\n",
        "MntSweetProducts - amount spent on sweet products in the last 2 years\n",
        "\n",
        "MntWines - amount spent on wine products in the last 2 years\n",
        "\n",
        "MntGoldProds - amount spent on gold products in the last 2 years\n",
        "\n",
        "NumDealsPurchases - number of purchases made with discount\n",
        "\n",
        "\n",
        "NumCatalogPurchases - number of purchases made using catalogue\n",
        "\n",
        "NumStorePurchases - number of purchases made directly in stores\n",
        "\n",
        "NumWebPurchases - number of purchases made through company’s web site\n",
        "\n",
        "NumWebVisitsMonth - number of visits to company’s web site in the last month\n",
        "\n",
        "Recency - number of days since the last purchase"
      ]
    },
    {
      "cell_type": "code",
      "metadata": {
        "colab": {
          "base_uri": "https://localhost:8080/",
          "height": 223
        },
        "id": "fL6DULeDc8Vl",
        "outputId": "6a6507d0-4851-4900-b7d7-b6e8efb351d2"
      },
      "source": [
        "import pandas as pd\n",
        "df = pd.read_csv('marketing_data.csv')\n",
        "df.head()"
      ],
      "execution_count": null,
      "outputs": [
        {
          "output_type": "execute_result",
          "data": {
            "text/html": [
              "<div>\n",
              "<style scoped>\n",
              "    .dataframe tbody tr th:only-of-type {\n",
              "        vertical-align: middle;\n",
              "    }\n",
              "\n",
              "    .dataframe tbody tr th {\n",
              "        vertical-align: top;\n",
              "    }\n",
              "\n",
              "    .dataframe thead th {\n",
              "        text-align: right;\n",
              "    }\n",
              "</style>\n",
              "<table border=\"1\" class=\"dataframe\">\n",
              "  <thead>\n",
              "    <tr style=\"text-align: right;\">\n",
              "      <th></th>\n",
              "      <th>ID</th>\n",
              "      <th>Year_Birth</th>\n",
              "      <th>Education</th>\n",
              "      <th>Marital_Status</th>\n",
              "      <th>Income</th>\n",
              "      <th>Kidhome</th>\n",
              "      <th>Teenhome</th>\n",
              "      <th>Dt_Customer</th>\n",
              "      <th>Recency</th>\n",
              "      <th>MntWines</th>\n",
              "      <th>MntFruits</th>\n",
              "      <th>MntMeatProducts</th>\n",
              "      <th>MntFishProducts</th>\n",
              "      <th>MntSweetProducts</th>\n",
              "      <th>MntGoldProds</th>\n",
              "      <th>NumDealsPurchases</th>\n",
              "      <th>NumWebPurchases</th>\n",
              "      <th>NumCatalogPurchases</th>\n",
              "      <th>NumStorePurchases</th>\n",
              "      <th>NumWebVisitsMonth</th>\n",
              "      <th>AcceptedCmp3</th>\n",
              "      <th>AcceptedCmp4</th>\n",
              "      <th>AcceptedCmp5</th>\n",
              "      <th>AcceptedCmp1</th>\n",
              "      <th>AcceptedCmp2</th>\n",
              "      <th>Response</th>\n",
              "      <th>Complain</th>\n",
              "      <th>Country</th>\n",
              "    </tr>\n",
              "  </thead>\n",
              "  <tbody>\n",
              "    <tr>\n",
              "      <th>0</th>\n",
              "      <td>1826</td>\n",
              "      <td>1970</td>\n",
              "      <td>Graduation</td>\n",
              "      <td>Divorced</td>\n",
              "      <td>$84,835.00</td>\n",
              "      <td>0</td>\n",
              "      <td>0</td>\n",
              "      <td>6/16/14</td>\n",
              "      <td>0</td>\n",
              "      <td>189</td>\n",
              "      <td>104</td>\n",
              "      <td>379</td>\n",
              "      <td>111</td>\n",
              "      <td>189</td>\n",
              "      <td>218</td>\n",
              "      <td>1</td>\n",
              "      <td>4</td>\n",
              "      <td>4</td>\n",
              "      <td>6</td>\n",
              "      <td>1</td>\n",
              "      <td>0</td>\n",
              "      <td>0</td>\n",
              "      <td>0</td>\n",
              "      <td>0</td>\n",
              "      <td>0</td>\n",
              "      <td>1</td>\n",
              "      <td>0</td>\n",
              "      <td>SP</td>\n",
              "    </tr>\n",
              "    <tr>\n",
              "      <th>1</th>\n",
              "      <td>1</td>\n",
              "      <td>1961</td>\n",
              "      <td>Graduation</td>\n",
              "      <td>Single</td>\n",
              "      <td>$57,091.00</td>\n",
              "      <td>0</td>\n",
              "      <td>0</td>\n",
              "      <td>6/15/14</td>\n",
              "      <td>0</td>\n",
              "      <td>464</td>\n",
              "      <td>5</td>\n",
              "      <td>64</td>\n",
              "      <td>7</td>\n",
              "      <td>0</td>\n",
              "      <td>37</td>\n",
              "      <td>1</td>\n",
              "      <td>7</td>\n",
              "      <td>3</td>\n",
              "      <td>7</td>\n",
              "      <td>5</td>\n",
              "      <td>0</td>\n",
              "      <td>0</td>\n",
              "      <td>0</td>\n",
              "      <td>0</td>\n",
              "      <td>1</td>\n",
              "      <td>1</td>\n",
              "      <td>0</td>\n",
              "      <td>CA</td>\n",
              "    </tr>\n",
              "    <tr>\n",
              "      <th>2</th>\n",
              "      <td>10476</td>\n",
              "      <td>1958</td>\n",
              "      <td>Graduation</td>\n",
              "      <td>Married</td>\n",
              "      <td>$67,267.00</td>\n",
              "      <td>0</td>\n",
              "      <td>1</td>\n",
              "      <td>5/13/14</td>\n",
              "      <td>0</td>\n",
              "      <td>134</td>\n",
              "      <td>11</td>\n",
              "      <td>59</td>\n",
              "      <td>15</td>\n",
              "      <td>2</td>\n",
              "      <td>30</td>\n",
              "      <td>1</td>\n",
              "      <td>3</td>\n",
              "      <td>2</td>\n",
              "      <td>5</td>\n",
              "      <td>2</td>\n",
              "      <td>0</td>\n",
              "      <td>0</td>\n",
              "      <td>0</td>\n",
              "      <td>0</td>\n",
              "      <td>0</td>\n",
              "      <td>0</td>\n",
              "      <td>0</td>\n",
              "      <td>US</td>\n",
              "    </tr>\n",
              "    <tr>\n",
              "      <th>3</th>\n",
              "      <td>1386</td>\n",
              "      <td>1967</td>\n",
              "      <td>Graduation</td>\n",
              "      <td>Together</td>\n",
              "      <td>$32,474.00</td>\n",
              "      <td>1</td>\n",
              "      <td>1</td>\n",
              "      <td>5/11/14</td>\n",
              "      <td>0</td>\n",
              "      <td>10</td>\n",
              "      <td>0</td>\n",
              "      <td>1</td>\n",
              "      <td>0</td>\n",
              "      <td>0</td>\n",
              "      <td>0</td>\n",
              "      <td>1</td>\n",
              "      <td>1</td>\n",
              "      <td>0</td>\n",
              "      <td>2</td>\n",
              "      <td>7</td>\n",
              "      <td>0</td>\n",
              "      <td>0</td>\n",
              "      <td>0</td>\n",
              "      <td>0</td>\n",
              "      <td>0</td>\n",
              "      <td>0</td>\n",
              "      <td>0</td>\n",
              "      <td>AUS</td>\n",
              "    </tr>\n",
              "    <tr>\n",
              "      <th>4</th>\n",
              "      <td>5371</td>\n",
              "      <td>1989</td>\n",
              "      <td>Graduation</td>\n",
              "      <td>Single</td>\n",
              "      <td>$21,474.00</td>\n",
              "      <td>1</td>\n",
              "      <td>0</td>\n",
              "      <td>4/8/14</td>\n",
              "      <td>0</td>\n",
              "      <td>6</td>\n",
              "      <td>16</td>\n",
              "      <td>24</td>\n",
              "      <td>11</td>\n",
              "      <td>0</td>\n",
              "      <td>34</td>\n",
              "      <td>2</td>\n",
              "      <td>3</td>\n",
              "      <td>1</td>\n",
              "      <td>2</td>\n",
              "      <td>7</td>\n",
              "      <td>1</td>\n",
              "      <td>0</td>\n",
              "      <td>0</td>\n",
              "      <td>0</td>\n",
              "      <td>0</td>\n",
              "      <td>1</td>\n",
              "      <td>0</td>\n",
              "      <td>SP</td>\n",
              "    </tr>\n",
              "  </tbody>\n",
              "</table>\n",
              "</div>"
            ],
            "text/plain": [
              "      ID  Year_Birth   Education  ... Response Complain  Country\n",
              "0   1826        1970  Graduation  ...        1        0       SP\n",
              "1      1        1961  Graduation  ...        1        0       CA\n",
              "2  10476        1958  Graduation  ...        0        0       US\n",
              "3   1386        1967  Graduation  ...        0        0      AUS\n",
              "4   5371        1989  Graduation  ...        1        0       SP\n",
              "\n",
              "[5 rows x 28 columns]"
            ]
          },
          "metadata": {
            "tags": []
          },
          "execution_count": 31
        }
      ]
    },
    {
      "cell_type": "code",
      "metadata": {
        "colab": {
          "base_uri": "https://localhost:8080/"
        },
        "id": "DRPj4Q1dc8hp",
        "outputId": "345d85ed-2e85-407c-efcd-ee9ebca9e6a6"
      },
      "source": [
        "df.info()"
      ],
      "execution_count": null,
      "outputs": [
        {
          "output_type": "stream",
          "text": [
            "<class 'pandas.core.frame.DataFrame'>\n",
            "RangeIndex: 2240 entries, 0 to 2239\n",
            "Data columns (total 28 columns):\n",
            " #   Column               Non-Null Count  Dtype \n",
            "---  ------               --------------  ----- \n",
            " 0   ID                   2240 non-null   int64 \n",
            " 1   Year_Birth           2240 non-null   int64 \n",
            " 2   Education            2240 non-null   object\n",
            " 3   Marital_Status       2240 non-null   object\n",
            " 4    Income              2216 non-null   object\n",
            " 5   Kidhome              2240 non-null   int64 \n",
            " 6   Teenhome             2240 non-null   int64 \n",
            " 7   Dt_Customer          2240 non-null   object\n",
            " 8   Recency              2240 non-null   int64 \n",
            " 9   MntWines             2240 non-null   int64 \n",
            " 10  MntFruits            2240 non-null   int64 \n",
            " 11  MntMeatProducts      2240 non-null   int64 \n",
            " 12  MntFishProducts      2240 non-null   int64 \n",
            " 13  MntSweetProducts     2240 non-null   int64 \n",
            " 14  MntGoldProds         2240 non-null   int64 \n",
            " 15  NumDealsPurchases    2240 non-null   int64 \n",
            " 16  NumWebPurchases      2240 non-null   int64 \n",
            " 17  NumCatalogPurchases  2240 non-null   int64 \n",
            " 18  NumStorePurchases    2240 non-null   int64 \n",
            " 19  NumWebVisitsMonth    2240 non-null   int64 \n",
            " 20  AcceptedCmp3         2240 non-null   int64 \n",
            " 21  AcceptedCmp4         2240 non-null   int64 \n",
            " 22  AcceptedCmp5         2240 non-null   int64 \n",
            " 23  AcceptedCmp1         2240 non-null   int64 \n",
            " 24  AcceptedCmp2         2240 non-null   int64 \n",
            " 25  Response             2240 non-null   int64 \n",
            " 26  Complain             2240 non-null   int64 \n",
            " 27  Country              2240 non-null   object\n",
            "dtypes: int64(23), object(5)\n",
            "memory usage: 490.1+ KB\n"
          ],
          "name": "stdout"
        }
      ]
    },
    {
      "cell_type": "code",
      "metadata": {
        "colab": {
          "base_uri": "https://localhost:8080/",
          "height": 223
        },
        "id": "a5j5gP0yee4u",
        "outputId": "b92562b3-0b47-497b-84b7-23423d290e6c"
      },
      "source": [
        "#lowercasing all the headers\n",
        "df.columns = map(str.lower, df.columns)\n",
        "# Removing white spaces from the headers\n",
        "df = df.rename(columns=lambda x: x.strip())\n",
        "df.head()"
      ],
      "execution_count": null,
      "outputs": [
        {
          "output_type": "execute_result",
          "data": {
            "text/html": [
              "<div>\n",
              "<style scoped>\n",
              "    .dataframe tbody tr th:only-of-type {\n",
              "        vertical-align: middle;\n",
              "    }\n",
              "\n",
              "    .dataframe tbody tr th {\n",
              "        vertical-align: top;\n",
              "    }\n",
              "\n",
              "    .dataframe thead th {\n",
              "        text-align: right;\n",
              "    }\n",
              "</style>\n",
              "<table border=\"1\" class=\"dataframe\">\n",
              "  <thead>\n",
              "    <tr style=\"text-align: right;\">\n",
              "      <th></th>\n",
              "      <th>id</th>\n",
              "      <th>year_birth</th>\n",
              "      <th>education</th>\n",
              "      <th>marital_status</th>\n",
              "      <th>income</th>\n",
              "      <th>kidhome</th>\n",
              "      <th>teenhome</th>\n",
              "      <th>dt_customer</th>\n",
              "      <th>recency</th>\n",
              "      <th>mntwines</th>\n",
              "      <th>mntfruits</th>\n",
              "      <th>mntmeatproducts</th>\n",
              "      <th>mntfishproducts</th>\n",
              "      <th>mntsweetproducts</th>\n",
              "      <th>mntgoldprods</th>\n",
              "      <th>numdealspurchases</th>\n",
              "      <th>numwebpurchases</th>\n",
              "      <th>numcatalogpurchases</th>\n",
              "      <th>numstorepurchases</th>\n",
              "      <th>numwebvisitsmonth</th>\n",
              "      <th>acceptedcmp3</th>\n",
              "      <th>acceptedcmp4</th>\n",
              "      <th>acceptedcmp5</th>\n",
              "      <th>acceptedcmp1</th>\n",
              "      <th>acceptedcmp2</th>\n",
              "      <th>response</th>\n",
              "      <th>complain</th>\n",
              "      <th>country</th>\n",
              "    </tr>\n",
              "  </thead>\n",
              "  <tbody>\n",
              "    <tr>\n",
              "      <th>0</th>\n",
              "      <td>1826</td>\n",
              "      <td>1970</td>\n",
              "      <td>Graduation</td>\n",
              "      <td>Divorced</td>\n",
              "      <td>$84,835.00</td>\n",
              "      <td>0</td>\n",
              "      <td>0</td>\n",
              "      <td>6/16/14</td>\n",
              "      <td>0</td>\n",
              "      <td>189</td>\n",
              "      <td>104</td>\n",
              "      <td>379</td>\n",
              "      <td>111</td>\n",
              "      <td>189</td>\n",
              "      <td>218</td>\n",
              "      <td>1</td>\n",
              "      <td>4</td>\n",
              "      <td>4</td>\n",
              "      <td>6</td>\n",
              "      <td>1</td>\n",
              "      <td>0</td>\n",
              "      <td>0</td>\n",
              "      <td>0</td>\n",
              "      <td>0</td>\n",
              "      <td>0</td>\n",
              "      <td>1</td>\n",
              "      <td>0</td>\n",
              "      <td>SP</td>\n",
              "    </tr>\n",
              "    <tr>\n",
              "      <th>1</th>\n",
              "      <td>1</td>\n",
              "      <td>1961</td>\n",
              "      <td>Graduation</td>\n",
              "      <td>Single</td>\n",
              "      <td>$57,091.00</td>\n",
              "      <td>0</td>\n",
              "      <td>0</td>\n",
              "      <td>6/15/14</td>\n",
              "      <td>0</td>\n",
              "      <td>464</td>\n",
              "      <td>5</td>\n",
              "      <td>64</td>\n",
              "      <td>7</td>\n",
              "      <td>0</td>\n",
              "      <td>37</td>\n",
              "      <td>1</td>\n",
              "      <td>7</td>\n",
              "      <td>3</td>\n",
              "      <td>7</td>\n",
              "      <td>5</td>\n",
              "      <td>0</td>\n",
              "      <td>0</td>\n",
              "      <td>0</td>\n",
              "      <td>0</td>\n",
              "      <td>1</td>\n",
              "      <td>1</td>\n",
              "      <td>0</td>\n",
              "      <td>CA</td>\n",
              "    </tr>\n",
              "    <tr>\n",
              "      <th>2</th>\n",
              "      <td>10476</td>\n",
              "      <td>1958</td>\n",
              "      <td>Graduation</td>\n",
              "      <td>Married</td>\n",
              "      <td>$67,267.00</td>\n",
              "      <td>0</td>\n",
              "      <td>1</td>\n",
              "      <td>5/13/14</td>\n",
              "      <td>0</td>\n",
              "      <td>134</td>\n",
              "      <td>11</td>\n",
              "      <td>59</td>\n",
              "      <td>15</td>\n",
              "      <td>2</td>\n",
              "      <td>30</td>\n",
              "      <td>1</td>\n",
              "      <td>3</td>\n",
              "      <td>2</td>\n",
              "      <td>5</td>\n",
              "      <td>2</td>\n",
              "      <td>0</td>\n",
              "      <td>0</td>\n",
              "      <td>0</td>\n",
              "      <td>0</td>\n",
              "      <td>0</td>\n",
              "      <td>0</td>\n",
              "      <td>0</td>\n",
              "      <td>US</td>\n",
              "    </tr>\n",
              "    <tr>\n",
              "      <th>3</th>\n",
              "      <td>1386</td>\n",
              "      <td>1967</td>\n",
              "      <td>Graduation</td>\n",
              "      <td>Together</td>\n",
              "      <td>$32,474.00</td>\n",
              "      <td>1</td>\n",
              "      <td>1</td>\n",
              "      <td>5/11/14</td>\n",
              "      <td>0</td>\n",
              "      <td>10</td>\n",
              "      <td>0</td>\n",
              "      <td>1</td>\n",
              "      <td>0</td>\n",
              "      <td>0</td>\n",
              "      <td>0</td>\n",
              "      <td>1</td>\n",
              "      <td>1</td>\n",
              "      <td>0</td>\n",
              "      <td>2</td>\n",
              "      <td>7</td>\n",
              "      <td>0</td>\n",
              "      <td>0</td>\n",
              "      <td>0</td>\n",
              "      <td>0</td>\n",
              "      <td>0</td>\n",
              "      <td>0</td>\n",
              "      <td>0</td>\n",
              "      <td>AUS</td>\n",
              "    </tr>\n",
              "    <tr>\n",
              "      <th>4</th>\n",
              "      <td>5371</td>\n",
              "      <td>1989</td>\n",
              "      <td>Graduation</td>\n",
              "      <td>Single</td>\n",
              "      <td>$21,474.00</td>\n",
              "      <td>1</td>\n",
              "      <td>0</td>\n",
              "      <td>4/8/14</td>\n",
              "      <td>0</td>\n",
              "      <td>6</td>\n",
              "      <td>16</td>\n",
              "      <td>24</td>\n",
              "      <td>11</td>\n",
              "      <td>0</td>\n",
              "      <td>34</td>\n",
              "      <td>2</td>\n",
              "      <td>3</td>\n",
              "      <td>1</td>\n",
              "      <td>2</td>\n",
              "      <td>7</td>\n",
              "      <td>1</td>\n",
              "      <td>0</td>\n",
              "      <td>0</td>\n",
              "      <td>0</td>\n",
              "      <td>0</td>\n",
              "      <td>1</td>\n",
              "      <td>0</td>\n",
              "      <td>SP</td>\n",
              "    </tr>\n",
              "  </tbody>\n",
              "</table>\n",
              "</div>"
            ],
            "text/plain": [
              "      id  year_birth   education  ... response complain  country\n",
              "0   1826        1970  Graduation  ...        1        0       SP\n",
              "1      1        1961  Graduation  ...        1        0       CA\n",
              "2  10476        1958  Graduation  ...        0        0       US\n",
              "3   1386        1967  Graduation  ...        0        0      AUS\n",
              "4   5371        1989  Graduation  ...        1        0       SP\n",
              "\n",
              "[5 rows x 28 columns]"
            ]
          },
          "metadata": {
            "tags": []
          },
          "execution_count": 33
        }
      ]
    },
    {
      "cell_type": "code",
      "metadata": {
        "id": "CzXU2uNJee7m"
      },
      "source": [
        "# dropping not so useful columns\n",
        "df.drop(['id'], axis=1, inplace =True)\n",
        "df.drop(['acceptedcmp1'], axis=1, inplace =True)\n",
        "df.drop(['acceptedcmp2'], axis=1, inplace =True)\n",
        "df.drop(['acceptedcmp3'], axis=1, inplace =True)\n",
        "df.drop(['acceptedcmp4'], axis=1, inplace =True)\n",
        "df.drop(['acceptedcmp5'], axis=1, inplace =True)\n",
        "df.drop(['response'], axis=1, inplace =True)\n",
        "df.drop(['complain'], axis=1, inplace =True)\n",
        "df.drop(['recency'], axis=1, inplace =True)\n",
        "df.drop(['numwebvisitsmonth'], axis=1, inplace =True)\n",
        "df.drop(['numdealspurchases'], axis=1, inplace =True)\n",
        "df.drop(['numcatalogpurchases'], axis=1, inplace =True)\n",
        "df.drop(['dt_customer'], axis=1, inplace =True)"
      ],
      "execution_count": null,
      "outputs": []
    },
    {
      "cell_type": "code",
      "metadata": {
        "id": "OE7FKcRpQWEo"
      },
      "source": [
        "# Manipulate differrent columns\n",
        "df['children_home'] = df['kidhome'] + df['teenhome']\n",
        "df.drop(['kidhome'], axis=1, inplace =True)\n",
        "df.drop(['teenhome'], axis=1, inplace =True)\n",
        "\n",
        "df['mntmeatproducts'] = df['mntmeatproducts'] + df['mntfishproducts']\n",
        "df.drop(['mntfishproducts'], axis=1, inplace =True)\n",
        "\n"
      ],
      "execution_count": null,
      "outputs": []
    },
    {
      "cell_type": "code",
      "metadata": {
        "colab": {
          "base_uri": "https://localhost:8080/",
          "height": 223
        },
        "id": "8ZCvPLv9KrOo",
        "outputId": "da839da6-0d2f-4682-91b7-f274bb20d2b4"
      },
      "source": [
        "# drop_duplicates\n",
        "df= df.drop_duplicates()\n",
        "df.head()"
      ],
      "execution_count": null,
      "outputs": [
        {
          "output_type": "execute_result",
          "data": {
            "text/html": [
              "<div>\n",
              "<style scoped>\n",
              "    .dataframe tbody tr th:only-of-type {\n",
              "        vertical-align: middle;\n",
              "    }\n",
              "\n",
              "    .dataframe tbody tr th {\n",
              "        vertical-align: top;\n",
              "    }\n",
              "\n",
              "    .dataframe thead th {\n",
              "        text-align: right;\n",
              "    }\n",
              "</style>\n",
              "<table border=\"1\" class=\"dataframe\">\n",
              "  <thead>\n",
              "    <tr style=\"text-align: right;\">\n",
              "      <th></th>\n",
              "      <th>year_birth</th>\n",
              "      <th>education</th>\n",
              "      <th>marital_status</th>\n",
              "      <th>income</th>\n",
              "      <th>mntwines</th>\n",
              "      <th>mntfruits</th>\n",
              "      <th>mntmeatproducts</th>\n",
              "      <th>mntsweetproducts</th>\n",
              "      <th>mntgoldprods</th>\n",
              "      <th>numwebpurchases</th>\n",
              "      <th>numstorepurchases</th>\n",
              "      <th>country</th>\n",
              "      <th>children_home</th>\n",
              "    </tr>\n",
              "  </thead>\n",
              "  <tbody>\n",
              "    <tr>\n",
              "      <th>0</th>\n",
              "      <td>1970</td>\n",
              "      <td>Graduation</td>\n",
              "      <td>Divorced</td>\n",
              "      <td>$84,835.00</td>\n",
              "      <td>189</td>\n",
              "      <td>104</td>\n",
              "      <td>490</td>\n",
              "      <td>189</td>\n",
              "      <td>218</td>\n",
              "      <td>4</td>\n",
              "      <td>6</td>\n",
              "      <td>SP</td>\n",
              "      <td>0</td>\n",
              "    </tr>\n",
              "    <tr>\n",
              "      <th>1</th>\n",
              "      <td>1961</td>\n",
              "      <td>Graduation</td>\n",
              "      <td>Single</td>\n",
              "      <td>$57,091.00</td>\n",
              "      <td>464</td>\n",
              "      <td>5</td>\n",
              "      <td>71</td>\n",
              "      <td>0</td>\n",
              "      <td>37</td>\n",
              "      <td>7</td>\n",
              "      <td>7</td>\n",
              "      <td>CA</td>\n",
              "      <td>0</td>\n",
              "    </tr>\n",
              "    <tr>\n",
              "      <th>2</th>\n",
              "      <td>1958</td>\n",
              "      <td>Graduation</td>\n",
              "      <td>Married</td>\n",
              "      <td>$67,267.00</td>\n",
              "      <td>134</td>\n",
              "      <td>11</td>\n",
              "      <td>74</td>\n",
              "      <td>2</td>\n",
              "      <td>30</td>\n",
              "      <td>3</td>\n",
              "      <td>5</td>\n",
              "      <td>US</td>\n",
              "      <td>1</td>\n",
              "    </tr>\n",
              "    <tr>\n",
              "      <th>3</th>\n",
              "      <td>1967</td>\n",
              "      <td>Graduation</td>\n",
              "      <td>Together</td>\n",
              "      <td>$32,474.00</td>\n",
              "      <td>10</td>\n",
              "      <td>0</td>\n",
              "      <td>1</td>\n",
              "      <td>0</td>\n",
              "      <td>0</td>\n",
              "      <td>1</td>\n",
              "      <td>2</td>\n",
              "      <td>AUS</td>\n",
              "      <td>2</td>\n",
              "    </tr>\n",
              "    <tr>\n",
              "      <th>4</th>\n",
              "      <td>1989</td>\n",
              "      <td>Graduation</td>\n",
              "      <td>Single</td>\n",
              "      <td>$21,474.00</td>\n",
              "      <td>6</td>\n",
              "      <td>16</td>\n",
              "      <td>35</td>\n",
              "      <td>0</td>\n",
              "      <td>34</td>\n",
              "      <td>3</td>\n",
              "      <td>2</td>\n",
              "      <td>SP</td>\n",
              "      <td>1</td>\n",
              "    </tr>\n",
              "  </tbody>\n",
              "</table>\n",
              "</div>"
            ],
            "text/plain": [
              "   year_birth   education  ... country children_home\n",
              "0        1970  Graduation  ...      SP             0\n",
              "1        1961  Graduation  ...      CA             0\n",
              "2        1958  Graduation  ...      US             1\n",
              "3        1967  Graduation  ...     AUS             2\n",
              "4        1989  Graduation  ...      SP             1\n",
              "\n",
              "[5 rows x 13 columns]"
            ]
          },
          "metadata": {
            "tags": []
          },
          "execution_count": 36
        }
      ]
    },
    {
      "cell_type": "code",
      "metadata": {
        "colab": {
          "base_uri": "https://localhost:8080/"
        },
        "id": "rNA9Bk0qK8CL",
        "outputId": "7f42c372-e08b-47e0-a25e-0d6f8049407a"
      },
      "source": [
        "df.isnull().sum()"
      ],
      "execution_count": null,
      "outputs": [
        {
          "output_type": "execute_result",
          "data": {
            "text/plain": [
              "year_birth            0\n",
              "education             0\n",
              "marital_status        0\n",
              "income               24\n",
              "mntwines              0\n",
              "mntfruits             0\n",
              "mntmeatproducts       0\n",
              "mntsweetproducts      0\n",
              "mntgoldprods          0\n",
              "numwebpurchases       0\n",
              "numstorepurchases     0\n",
              "country               0\n",
              "children_home         0\n",
              "dtype: int64"
            ]
          },
          "metadata": {
            "tags": []
          },
          "execution_count": 37
        }
      ]
    },
    {
      "cell_type": "code",
      "metadata": {
        "colab": {
          "base_uri": "https://localhost:8080/"
        },
        "id": "WQ8KOjtuee-l",
        "outputId": "9abcfc76-e9f5-48b4-801e-ae364c1e4e78"
      },
      "source": [
        "df.info()"
      ],
      "execution_count": null,
      "outputs": [
        {
          "output_type": "stream",
          "text": [
            "<class 'pandas.core.frame.DataFrame'>\n",
            "Int64Index: 2186 entries, 0 to 2239\n",
            "Data columns (total 13 columns):\n",
            " #   Column             Non-Null Count  Dtype \n",
            "---  ------             --------------  ----- \n",
            " 0   year_birth         2186 non-null   int64 \n",
            " 1   education          2186 non-null   object\n",
            " 2   marital_status     2186 non-null   object\n",
            " 3   income             2162 non-null   object\n",
            " 4   mntwines           2186 non-null   int64 \n",
            " 5   mntfruits          2186 non-null   int64 \n",
            " 6   mntmeatproducts    2186 non-null   int64 \n",
            " 7   mntsweetproducts   2186 non-null   int64 \n",
            " 8   mntgoldprods       2186 non-null   int64 \n",
            " 9   numwebpurchases    2186 non-null   int64 \n",
            " 10  numstorepurchases  2186 non-null   int64 \n",
            " 11  country            2186 non-null   object\n",
            " 12  children_home      2186 non-null   int64 \n",
            "dtypes: int64(9), object(4)\n",
            "memory usage: 239.1+ KB\n"
          ],
          "name": "stdout"
        }
      ]
    },
    {
      "cell_type": "code",
      "metadata": {
        "colab": {
          "base_uri": "https://localhost:8080/"
        },
        "id": "uEyOuLm65WQ8",
        "outputId": "c36ebe40-f683-4f22-b5ce-77cecda44b3f"
      },
      "source": [
        "df.memory_usage(deep='True')"
      ],
      "execution_count": null,
      "outputs": [
        {
          "output_type": "execute_result",
          "data": {
            "text/plain": [
              "Index                 17488\n",
              "year_birth            17488\n",
              "education            141029\n",
              "marital_status       140066\n",
              "income               147768\n",
              "mntwines              17488\n",
              "mntfruits             17488\n",
              "mntmeatproducts       17488\n",
              "mntsweetproducts      17488\n",
              "mntgoldprods          17488\n",
              "numwebpurchases       17488\n",
              "numstorepurchases     17488\n",
              "country              129400\n",
              "children_home         17488\n",
              "dtype: int64"
            ]
          },
          "metadata": {
            "tags": []
          },
          "execution_count": 39
        }
      ]
    },
    {
      "cell_type": "code",
      "metadata": {
        "id": "cJuZnSOAefJ4",
        "colab": {
          "base_uri": "https://localhost:8080/"
        },
        "outputId": "3b4ead72-1eaf-4d9f-fdd3-ed5a5cd6d5a0"
      },
      "source": [
        "#Converting income to numerical value and converting dt_costumer to datetime\n",
        "df['income'] = ((df['income'].str.replace('$','')).str.replace(',','')).astype(str).astype(float)\n",
        "df['income'].dtype\n",
        "# df['dt_customer'] = pd.to_datetime(df['dt_customer'])\n",
        "# df.head(10)"
      ],
      "execution_count": null,
      "outputs": [
        {
          "output_type": "execute_result",
          "data": {
            "text/plain": [
              "dtype('float64')"
            ]
          },
          "metadata": {
            "tags": []
          },
          "execution_count": 40
        }
      ]
    },
    {
      "cell_type": "code",
      "metadata": {
        "colab": {
          "base_uri": "https://localhost:8080/"
        },
        "id": "Ocxehpekyq0I",
        "outputId": "be0fa082-17ab-413e-86dc-18bed1a4e6ff"
      },
      "source": [
        "df.info()"
      ],
      "execution_count": null,
      "outputs": [
        {
          "output_type": "stream",
          "text": [
            "<class 'pandas.core.frame.DataFrame'>\n",
            "Int64Index: 2186 entries, 0 to 2239\n",
            "Data columns (total 13 columns):\n",
            " #   Column             Non-Null Count  Dtype  \n",
            "---  ------             --------------  -----  \n",
            " 0   year_birth         2186 non-null   int64  \n",
            " 1   education          2186 non-null   object \n",
            " 2   marital_status     2186 non-null   object \n",
            " 3   income             2162 non-null   float64\n",
            " 4   mntwines           2186 non-null   int64  \n",
            " 5   mntfruits          2186 non-null   int64  \n",
            " 6   mntmeatproducts    2186 non-null   int64  \n",
            " 7   mntsweetproducts   2186 non-null   int64  \n",
            " 8   mntgoldprods       2186 non-null   int64  \n",
            " 9   numwebpurchases    2186 non-null   int64  \n",
            " 10  numstorepurchases  2186 non-null   int64  \n",
            " 11  country            2186 non-null   object \n",
            " 12  children_home      2186 non-null   int64  \n",
            "dtypes: float64(1), int64(9), object(3)\n",
            "memory usage: 239.1+ KB\n"
          ],
          "name": "stdout"
        }
      ]
    },
    {
      "cell_type": "code",
      "metadata": {
        "colab": {
          "base_uri": "https://localhost:8080/"
        },
        "id": "E9RJ1dNhKH9Z",
        "outputId": "c0a6a948-450c-48ff-80c6-2c5a577bad1e"
      },
      "source": [
        "# Counting the no of categery in any column\n",
        "print(df.education.value_counts())\n",
        "print(df.marital_status.value_counts())\n",
        "print(df.country.value_counts())"
      ],
      "execution_count": null,
      "outputs": [
        {
          "output_type": "stream",
          "text": [
            "Graduation    1098\n",
            "PhD            473\n",
            "Master         365\n",
            "2n Cycle       196\n",
            "Basic           54\n",
            "Name: education, dtype: int64\n",
            "Married     841\n",
            "Together    569\n",
            "Single      470\n",
            "Divorced    225\n",
            "Widow        74\n",
            "Alone         3\n",
            "YOLO          2\n",
            "Absurd        2\n",
            "Name: marital_status, dtype: int64\n",
            "SP     1049\n",
            "SA      335\n",
            "CA      265\n",
            "AUS     159\n",
            "IND     147\n",
            "GER     120\n",
            "US      108\n",
            "ME        3\n",
            "Name: country, dtype: int64\n"
          ],
          "name": "stdout"
        }
      ]
    },
    {
      "cell_type": "code",
      "metadata": {
        "id": "fiKLx7xiKH9c"
      },
      "source": [
        "# Converting objects to categories\n",
        "df['education'] = df['education'].astype('category')\n",
        "df['marital_status'] = df['marital_status'].astype('category')\n",
        "df['country'] = df['country'].astype('category')"
      ],
      "execution_count": null,
      "outputs": []
    },
    {
      "cell_type": "code",
      "metadata": {
        "colab": {
          "base_uri": "https://localhost:8080/"
        },
        "id": "JwvVwIR24-Di",
        "outputId": "feafc623-27d8-44ba-b7c6-a8a7c93e18c8"
      },
      "source": [
        "df.education.cat.codes"
      ],
      "execution_count": null,
      "outputs": [
        {
          "output_type": "execute_result",
          "data": {
            "text/plain": [
              "0       2\n",
              "1       2\n",
              "2       2\n",
              "3       2\n",
              "4       2\n",
              "       ..\n",
              "2235    4\n",
              "2236    0\n",
              "2237    2\n",
              "2238    2\n",
              "2239    4\n",
              "Length: 2186, dtype: int8"
            ]
          },
          "metadata": {
            "tags": []
          },
          "execution_count": 44
        }
      ]
    },
    {
      "cell_type": "code",
      "metadata": {
        "colab": {
          "base_uri": "https://localhost:8080/"
        },
        "id": "H_lpxTg15Ouk",
        "outputId": "42f98d8e-528c-46e6-9f7f-0b3a21db2ba8"
      },
      "source": [
        "df.memory_usage(deep='True')"
      ],
      "execution_count": null,
      "outputs": [
        {
          "output_type": "execute_result",
          "data": {
            "text/plain": [
              "Index                17488\n",
              "year_birth           17488\n",
              "education             2663\n",
              "marital_status        3011\n",
              "income               17488\n",
              "mntwines             17488\n",
              "mntfruits            17488\n",
              "mntmeatproducts      17488\n",
              "mntsweetproducts     17488\n",
              "mntgoldprods         17488\n",
              "numwebpurchases      17488\n",
              "numstorepurchases    17488\n",
              "country               2981\n",
              "children_home        17488\n",
              "dtype: int64"
            ]
          },
          "metadata": {
            "tags": []
          },
          "execution_count": 45
        }
      ]
    },
    {
      "cell_type": "code",
      "metadata": {
        "colab": {
          "base_uri": "https://localhost:8080/",
          "height": 223
        },
        "id": "ejO1q6-o6G6W",
        "outputId": "63eab3de-c9b8-4c0e-dcec-7275502f9981"
      },
      "source": [
        "df.head()"
      ],
      "execution_count": null,
      "outputs": [
        {
          "output_type": "execute_result",
          "data": {
            "text/html": [
              "<div>\n",
              "<style scoped>\n",
              "    .dataframe tbody tr th:only-of-type {\n",
              "        vertical-align: middle;\n",
              "    }\n",
              "\n",
              "    .dataframe tbody tr th {\n",
              "        vertical-align: top;\n",
              "    }\n",
              "\n",
              "    .dataframe thead th {\n",
              "        text-align: right;\n",
              "    }\n",
              "</style>\n",
              "<table border=\"1\" class=\"dataframe\">\n",
              "  <thead>\n",
              "    <tr style=\"text-align: right;\">\n",
              "      <th></th>\n",
              "      <th>year_birth</th>\n",
              "      <th>education</th>\n",
              "      <th>marital_status</th>\n",
              "      <th>income</th>\n",
              "      <th>mntwines</th>\n",
              "      <th>mntfruits</th>\n",
              "      <th>mntmeatproducts</th>\n",
              "      <th>mntsweetproducts</th>\n",
              "      <th>mntgoldprods</th>\n",
              "      <th>numwebpurchases</th>\n",
              "      <th>numstorepurchases</th>\n",
              "      <th>country</th>\n",
              "      <th>children_home</th>\n",
              "    </tr>\n",
              "  </thead>\n",
              "  <tbody>\n",
              "    <tr>\n",
              "      <th>0</th>\n",
              "      <td>1970</td>\n",
              "      <td>Graduation</td>\n",
              "      <td>Divorced</td>\n",
              "      <td>84835.0</td>\n",
              "      <td>189</td>\n",
              "      <td>104</td>\n",
              "      <td>490</td>\n",
              "      <td>189</td>\n",
              "      <td>218</td>\n",
              "      <td>4</td>\n",
              "      <td>6</td>\n",
              "      <td>SP</td>\n",
              "      <td>0</td>\n",
              "    </tr>\n",
              "    <tr>\n",
              "      <th>1</th>\n",
              "      <td>1961</td>\n",
              "      <td>Graduation</td>\n",
              "      <td>Single</td>\n",
              "      <td>57091.0</td>\n",
              "      <td>464</td>\n",
              "      <td>5</td>\n",
              "      <td>71</td>\n",
              "      <td>0</td>\n",
              "      <td>37</td>\n",
              "      <td>7</td>\n",
              "      <td>7</td>\n",
              "      <td>CA</td>\n",
              "      <td>0</td>\n",
              "    </tr>\n",
              "    <tr>\n",
              "      <th>2</th>\n",
              "      <td>1958</td>\n",
              "      <td>Graduation</td>\n",
              "      <td>Married</td>\n",
              "      <td>67267.0</td>\n",
              "      <td>134</td>\n",
              "      <td>11</td>\n",
              "      <td>74</td>\n",
              "      <td>2</td>\n",
              "      <td>30</td>\n",
              "      <td>3</td>\n",
              "      <td>5</td>\n",
              "      <td>US</td>\n",
              "      <td>1</td>\n",
              "    </tr>\n",
              "    <tr>\n",
              "      <th>3</th>\n",
              "      <td>1967</td>\n",
              "      <td>Graduation</td>\n",
              "      <td>Together</td>\n",
              "      <td>32474.0</td>\n",
              "      <td>10</td>\n",
              "      <td>0</td>\n",
              "      <td>1</td>\n",
              "      <td>0</td>\n",
              "      <td>0</td>\n",
              "      <td>1</td>\n",
              "      <td>2</td>\n",
              "      <td>AUS</td>\n",
              "      <td>2</td>\n",
              "    </tr>\n",
              "    <tr>\n",
              "      <th>4</th>\n",
              "      <td>1989</td>\n",
              "      <td>Graduation</td>\n",
              "      <td>Single</td>\n",
              "      <td>21474.0</td>\n",
              "      <td>6</td>\n",
              "      <td>16</td>\n",
              "      <td>35</td>\n",
              "      <td>0</td>\n",
              "      <td>34</td>\n",
              "      <td>3</td>\n",
              "      <td>2</td>\n",
              "      <td>SP</td>\n",
              "      <td>1</td>\n",
              "    </tr>\n",
              "  </tbody>\n",
              "</table>\n",
              "</div>"
            ],
            "text/plain": [
              "   year_birth   education  ... country  children_home\n",
              "0        1970  Graduation  ...      SP              0\n",
              "1        1961  Graduation  ...      CA              0\n",
              "2        1958  Graduation  ...      US              1\n",
              "3        1967  Graduation  ...     AUS              2\n",
              "4        1989  Graduation  ...      SP              1\n",
              "\n",
              "[5 rows x 13 columns]"
            ]
          },
          "metadata": {
            "tags": []
          },
          "execution_count": 46
        }
      ]
    },
    {
      "cell_type": "code",
      "metadata": {
        "id": "tgf_lZ5iF_nn"
      },
      "source": [
        "from sklearn.preprocessing import LabelEncoder\n",
        "le=LabelEncoder()\n",
        "df['education'] =le.fit_transform(df['education'])\n",
        "df['marital_status'] =le.fit_transform(df['marital_status'])\n",
        "df['country'] =le.fit_transform(df['country'])"
      ],
      "execution_count": null,
      "outputs": []
    },
    {
      "cell_type": "code",
      "metadata": {
        "id": "o3Intt7EGS49"
      },
      "source": [
        "import numpy as np\n",
        "df['income'] = df['income'].fillna(0).astype(np.int64)"
      ],
      "execution_count": null,
      "outputs": []
    },
    {
      "cell_type": "code",
      "metadata": {
        "colab": {
          "base_uri": "https://localhost:8080/"
        },
        "id": "822GWb5vcmdz",
        "outputId": "f1402597-1a9e-41ab-d7dc-2bae62718928"
      },
      "source": [
        "df.info()"
      ],
      "execution_count": null,
      "outputs": [
        {
          "output_type": "stream",
          "text": [
            "<class 'pandas.core.frame.DataFrame'>\n",
            "Int64Index: 2186 entries, 0 to 2239\n",
            "Data columns (total 13 columns):\n",
            " #   Column             Non-Null Count  Dtype\n",
            "---  ------             --------------  -----\n",
            " 0   year_birth         2186 non-null   int64\n",
            " 1   education          2186 non-null   int64\n",
            " 2   marital_status     2186 non-null   int64\n",
            " 3   income             2186 non-null   int64\n",
            " 4   mntwines           2186 non-null   int64\n",
            " 5   mntfruits          2186 non-null   int64\n",
            " 6   mntmeatproducts    2186 non-null   int64\n",
            " 7   mntsweetproducts   2186 non-null   int64\n",
            " 8   mntgoldprods       2186 non-null   int64\n",
            " 9   numwebpurchases    2186 non-null   int64\n",
            " 10  numstorepurchases  2186 non-null   int64\n",
            " 11  country            2186 non-null   int64\n",
            " 12  children_home      2186 non-null   int64\n",
            "dtypes: int64(13)\n",
            "memory usage: 239.1 KB\n"
          ],
          "name": "stdout"
        }
      ]
    },
    {
      "cell_type": "markdown",
      "metadata": {
        "id": "DkkgkAY5GrPQ"
      },
      "source": [
        "Name: education, dtype: int64(codes)\n",
        "\n",
        "Graduation    2\n",
        "\n",
        "PhD           4\n",
        "\n",
        "Master        3\n",
        "\n",
        "2n Cycle      0\n",
        "\n",
        "Basic         1\n",
        "\n",
        "\n",
        "Name: marital_status, dtype: int64(codes)\n",
        "\n",
        "Married       3\n",
        "\n",
        "Together      5\n",
        "\n",
        "Single        4\n",
        "\n",
        "Divorced      2\n",
        "\n",
        "Widow         6\n",
        "\n",
        "Alone         1\n",
        "\n",
        "YOLO          7\n",
        "\n",
        "Absurd        0\n",
        "\n",
        "\n",
        "Name: country, dtype: int64(codes)\n",
        "\n",
        "SP            6\n",
        "\n",
        "SA            5\n",
        "\n",
        "CA            1\n",
        "\n",
        "AUS           0\n",
        "\n",
        "IND           3\n",
        "\n",
        "GER           2\n",
        "\n",
        "US            7\n",
        "\n",
        "ME            4"
      ]
    },
    {
      "cell_type": "code",
      "metadata": {
        "colab": {
          "base_uri": "https://localhost:8080/",
          "height": 17
        },
        "id": "Y4X74i7W58Gc",
        "outputId": "61086bfd-0b38-45d9-e71a-24e2569c750c"
      },
      "source": [
        "df.to_csv('cleaned_marketing_data.csv') \n",
        "files.download('cleaned_marketing_data.csv')"
      ],
      "execution_count": null,
      "outputs": [
        {
          "output_type": "display_data",
          "data": {
            "application/javascript": [
              "\n",
              "    async function download(id, filename, size) {\n",
              "      if (!google.colab.kernel.accessAllowed) {\n",
              "        return;\n",
              "      }\n",
              "      const div = document.createElement('div');\n",
              "      const label = document.createElement('label');\n",
              "      label.textContent = `Downloading \"${filename}\": `;\n",
              "      div.appendChild(label);\n",
              "      const progress = document.createElement('progress');\n",
              "      progress.max = size;\n",
              "      div.appendChild(progress);\n",
              "      document.body.appendChild(div);\n",
              "\n",
              "      const buffers = [];\n",
              "      let downloaded = 0;\n",
              "\n",
              "      const channel = await google.colab.kernel.comms.open(id);\n",
              "      // Send a message to notify the kernel that we're ready.\n",
              "      channel.send({})\n",
              "\n",
              "      for await (const message of channel.messages) {\n",
              "        // Send a message to notify the kernel that we're ready.\n",
              "        channel.send({})\n",
              "        if (message.buffers) {\n",
              "          for (const buffer of message.buffers) {\n",
              "            buffers.push(buffer);\n",
              "            downloaded += buffer.byteLength;\n",
              "            progress.value = downloaded;\n",
              "          }\n",
              "        }\n",
              "      }\n",
              "      const blob = new Blob(buffers, {type: 'application/binary'});\n",
              "      const a = document.createElement('a');\n",
              "      a.href = window.URL.createObjectURL(blob);\n",
              "      a.download = filename;\n",
              "      div.appendChild(a);\n",
              "      a.click();\n",
              "      div.remove();\n",
              "    }\n",
              "  "
            ],
            "text/plain": [
              "<IPython.core.display.Javascript object>"
            ]
          },
          "metadata": {
            "tags": []
          }
        },
        {
          "output_type": "display_data",
          "data": {
            "application/javascript": [
              "download(\"download_b12d68c9-fdbc-4303-81f8-9857ed7fd8fa\", \"cleaned_marketing_data.csv\", 93105)"
            ],
            "text/plain": [
              "<IPython.core.display.Javascript object>"
            ]
          },
          "metadata": {
            "tags": []
          }
        }
      ]
    }
  ]
}